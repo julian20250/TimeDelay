{
 "cells": [
  {
   "cell_type": "markdown",
   "metadata": {},
   "source": [
    "# Primera Figura #"
   ]
  },
  {
   "cell_type": "code",
   "execution_count": 13,
   "metadata": {},
   "outputs": [],
   "source": [
    "import matplotlib.pyplot as plt\n",
    "import numpy as np\n",
    "import matplotlib"
   ]
  },
  {
   "cell_type": "code",
   "execution_count": 20,
   "metadata": {},
   "outputs": [],
   "source": [
    "font = {'size'   : 12}\n",
    "\n",
    "matplotlib.rc('font', **font)"
   ]
  },
  {
   "cell_type": "code",
   "execution_count": 15,
   "metadata": {},
   "outputs": [],
   "source": [
    "def diff(r_lamb,delta):\n",
    "     return -(delta*r_lamb*np.exp(-r_lamb)+2*delta*np.exp(-r_lamb))/(delta*np.exp(-r_lamb)+1)"
   ]
  },
  {
   "cell_type": "code",
   "execution_count": 16,
   "metadata": {},
   "outputs": [],
   "source": [
    "x=np.linspace(0,2, 200)\n",
    "y=np.linspace(-.1,.1,200)"
   ]
  },
  {
   "cell_type": "code",
   "execution_count": 17,
   "metadata": {},
   "outputs": [],
   "source": [
    "x,y= np.meshgrid(x,y)"
   ]
  },
  {
   "cell_type": "code",
   "execution_count": 18,
   "metadata": {},
   "outputs": [],
   "source": [
    "z=diff(x,y)"
   ]
  },
  {
   "cell_type": "code",
   "execution_count": 22,
   "metadata": {},
   "outputs": [
    {
     "data": {
      "image/png": "[encoded data removed]",
      "text/plain": [
       "<Figure size 432x288 with 2 Axes>"
      ]
     },
     "metadata": {
      "needs_background": "light"
     },
     "output_type": "display_data"
    }
   ],
   "source": [
    "f= plt.figure()\n",
    "\n",
    "CS=plt.pcolormesh(x,y,z, cmap=\"rainbow\")#coolwarm\n",
    "cbar = f.colorbar(CS)\n",
    "cbar.set_label(r\"Diferencia Relativa $\\frac{\\Psi-\\Phi}{\\Phi}$\")\n",
    "plt.xlabel(r\"$r/\\lambda$\")\n",
    "plt.ylabel(r\"$\\delta$\")\n",
    "plt.tight_layout()\n",
    "plt.savefig(\"relDiff.png\")"
   ]
  },
  {
   "cell_type": "markdown",
   "metadata": {},
   "source": [
    "# Deducción de las cositas a partir de la métrica #"
   ]
  },
  {
   "cell_type": "code",
   "execution_count": 38,
   "metadata": {},
   "outputs": [],
   "source": [
    "from sympy import *\n",
    "from gravipy import *\n",
    "init_printing(use_latex='mathjax')"
   ]
  },
  {
   "cell_type": "code",
   "execution_count": 45,
   "metadata": {},
   "outputs": [],
   "source": [
    "delta, lamb, R_sc=symbols(\"\\delta, \\lambda, R_s\")\n",
    "t, r, theta, phi, M = symbols('t, r, \\\\theta, \\phi, M')\n",
    "x = Coordinates('\\chi', [t, r, theta, phi])\n",
    "phi = -2*R_sc*(delta*exp(-r/lamb)+1)/(r*(delta+1))\n",
    "Metric = diag(1+phi, -(1-phi), -r**2, -r**2*sin(theta)**2)"
   ]
  },
  {
   "cell_type": "code",
   "execution_count": 46,
   "metadata": {},
   "outputs": [],
   "source": [
    "g = MetricTensor('g', x, Metric)"
   ]
  },
  {
   "cell_type": "code",
   "execution_count": 47,
   "metadata": {},
   "outputs": [
    {
     "data": {
      "text/latex": [
       "$$\\left[\\begin{matrix}- \\frac{2 R_{s} \\left(\\delta e^{- \\frac{r}{\\lambda}} + 1\\right)}{r \\left(\\delta + 1\\right)} + 1 & 0 & 0 & 0\\\\0 & - \\frac{2 R_{s} \\left(\\delta e^{- \\frac{r}{\\lambda}} + 1\\right)}{r \\left(\\delta + 1\\right)} - 1 & 0 & 0\\\\0 & 0 & - r^{2} & 0\\\\0 & 0 & 0 & - r^{2} \\sin^{2}{\\left (\\theta \\right )}\\end{matrix}\\right]$$"
      ],
      "text/plain": [
       "⎡       ⎛          -r       ⎞                                                 \n",
       "⎢       ⎜        ───────    ⎟                                                 \n",
       "⎢       ⎜        \\lambda    ⎟                                                 \n",
       "⎢  2⋅Rₛ⋅⎝\\delta⋅ℯ        + 1⎠                                                 \n",
       "⎢- ────────────────────────── + 1                 0                   0       \n",
       "⎢        r⋅(\\delta + 1)                                                       \n",
       "⎢                                                                             \n",
       "⎢                                         ⎛          -r       ⎞               \n",
       "⎢                                         ⎜        ───────    ⎟               \n",
       "⎢                                         ⎜        \\lambda    ⎟               \n",
       "⎢                                    2⋅Rₛ⋅⎝\\delta⋅ℯ        + 1⎠               \n",
       "⎢               0                  - ────────────────────────── - 1   0       \n",
       "⎢                                          r⋅(\\delta + 1)                     \n",
       "⎢                                                                             \n",
       "⎢                                                                      2      \n",
       "⎢               0                                 0                  -r       \n",
       "⎢                                                                             \n",
       "⎢                                                                           2 \n",
       "⎣               0                                 0                   0   -r ⋅\n",
       "\n",
       "            ⎤\n",
       "            ⎥\n",
       "            ⎥\n",
       "            ⎥\n",
       "   0        ⎥\n",
       "            ⎥\n",
       "            ⎥\n",
       "            ⎥\n",
       "            ⎥\n",
       "            ⎥\n",
       "            ⎥\n",
       "   0        ⎥\n",
       "            ⎥\n",
       "            ⎥\n",
       "            ⎥\n",
       "   0        ⎥\n",
       "            ⎥\n",
       "   2        ⎥\n",
       "sin (\\theta)⎦"
      ]
     },
     "execution_count": 47,
     "metadata": {},
     "output_type": "execute_result"
    }
   ],
   "source": [
    "g(All, All)"
   ]
  },
  {
   "cell_type": "code",
   "execution_count": 48,
   "metadata": {},
   "outputs": [],
   "source": [
    "Ga = Christoffel('Ga', g)"
   ]
  },
  {
   "cell_type": "code",
   "execution_count": 52,
   "metadata": {},
   "outputs": [
    {
     "data": {
      "text/latex": [
       "$$\\left \\{ \\left ( -1, \\quad 1, \\quad 1\\right ) : 0, \\quad \\left ( 1, \\quad 1, \\quad 1\\right ) : 0, \\quad \\left ( 1, \\quad 1, \\quad 2\\right ) : \\frac{R_{s} \\left(\\delta r + \\lambda \\left(\\delta + e^{\\frac{r}{\\lambda}}\\right)\\right) e^{- \\frac{r}{\\lambda}}}{\\lambda r^{2} \\left(\\delta + 1\\right)}, \\quad \\left ( 1, \\quad 1, \\quad 3\\right ) : 0, \\quad \\left ( 1, \\quad 1, \\quad 4\\right ) : 0, \\quad \\left ( 1, \\quad 2, \\quad 1\\right ) : \\frac{R_{s} \\left(\\delta r + \\lambda \\left(\\delta + e^{\\frac{r}{\\lambda}}\\right)\\right) e^{- \\frac{r}{\\lambda}}}{\\lambda r^{2} \\left(\\delta + 1\\right)}, \\quad \\left ( 1, \\quad 2, \\quad 2\\right ) : 0, \\quad \\left ( 1, \\quad 2, \\quad 3\\right ) : 0, \\quad \\left ( 1, \\quad 2, \\quad 4\\right ) : 0, \\quad \\left ( 1, \\quad 3, \\quad 1\\right ) : 0, \\quad \\left ( 1, \\quad 3, \\quad 2\\right ) : 0, \\quad \\left ( 1, \\quad 3, \\quad 3\\right ) : 0, \\quad \\left ( 1, \\quad 3, \\quad 4\\right ) : 0, \\quad \\left ( 1, \\quad 4, \\quad 1\\right ) : 0, \\quad \\left ( 1, \\quad 4, \\quad 2\\right ) : 0, \\quad \\left ( 1, \\quad 4, \\quad 3\\right ) : 0, \\quad \\left ( 1, \\quad 4, \\quad 4\\right ) : 0, \\quad \\left ( 2, \\quad 1, \\quad 1\\right ) : - \\frac{R_{s} \\left(\\delta r + \\lambda \\left(\\delta + e^{\\frac{r}{\\lambda}}\\right)\\right) e^{- \\frac{r}{\\lambda}}}{\\lambda r^{2} \\left(\\delta + 1\\right)}, \\quad \\left ( 2, \\quad 1, \\quad 2\\right ) : 0, \\quad \\left ( 2, \\quad 1, \\quad 3\\right ) : 0, \\quad \\left ( 2, \\quad 1, \\quad 4\\right ) : 0, \\quad \\left ( 2, \\quad 2, \\quad 1\\right ) : 0, \\quad \\left ( 2, \\quad 2, \\quad 2\\right ) : \\frac{R_{s} \\left(\\delta r + \\lambda \\left(\\delta + e^{\\frac{r}{\\lambda}}\\right)\\right) e^{- \\frac{r}{\\lambda}}}{\\lambda r^{2} \\left(\\delta + 1\\right)}, \\quad \\left ( 2, \\quad 2, \\quad 3\\right ) : 0, \\quad \\left ( 2, \\quad 2, \\quad 4\\right ) : 0, \\quad \\left ( 2, \\quad 3, \\quad 1\\right ) : 0, \\quad \\left ( 2, \\quad 3, \\quad 2\\right ) : 0, \\quad \\left ( 2, \\quad 3, \\quad 3\\right ) : r, \\quad \\left ( 2, \\quad 3, \\quad 4\\right ) : 0, \\quad \\left ( 2, \\quad 4, \\quad 1\\right ) : 0, \\quad \\left ( 2, \\quad 4, \\quad 2\\right ) : 0, \\quad \\left ( 2, \\quad 4, \\quad 3\\right ) : 0, \\quad \\left ( 2, \\quad 4, \\quad 4\\right ) : r \\sin^{2}{\\left (\\theta \\right )}, \\quad \\left ( 3, \\quad 1, \\quad 1\\right ) : 0, \\quad \\left ( 3, \\quad 1, \\quad 2\\right ) : 0, \\quad \\left ( 3, \\quad 1, \\quad 3\\right ) : 0, \\quad \\left ( 3, \\quad 1, \\quad 4\\right ) : 0, \\quad \\left ( 3, \\quad 2, \\quad 1\\right ) : 0, \\quad \\left ( 3, \\quad 2, \\quad 2\\right ) : 0, \\quad \\left ( 3, \\quad 2, \\quad 3\\right ) : - r, \\quad \\left ( 3, \\quad 2, \\quad 4\\right ) : 0, \\quad \\left ( 3, \\quad 3, \\quad 1\\right ) : 0, \\quad \\left ( 3, \\quad 3, \\quad 2\\right ) : - r, \\quad \\left ( 3, \\quad 3, \\quad 3\\right ) : 0, \\quad \\left ( 3, \\quad 3, \\quad 4\\right ) : 0, \\quad \\left ( 3, \\quad 4, \\quad 1\\right ) : 0, \\quad \\left ( 3, \\quad 4, \\quad 2\\right ) : 0, \\quad \\left ( 3, \\quad 4, \\quad 3\\right ) : 0, \\quad \\left ( 3, \\quad 4, \\quad 4\\right ) : \\frac{r^{2} \\sin{\\left (2 \\theta \\right )}}{2}, \\quad \\left ( 4, \\quad 1, \\quad 1\\right ) : 0, \\quad \\left ( 4, \\quad 1, \\quad 2\\right ) : 0, \\quad \\left ( 4, \\quad 1, \\quad 3\\right ) : 0, \\quad \\left ( 4, \\quad 1, \\quad 4\\right ) : 0, \\quad \\left ( 4, \\quad 2, \\quad 1\\right ) : 0, \\quad \\left ( 4, \\quad 2, \\quad 2\\right ) : 0, \\quad \\left ( 4, \\quad 2, \\quad 3\\right ) : 0, \\quad \\left ( 4, \\quad 2, \\quad 4\\right ) : - r \\sin^{2}{\\left (\\theta \\right )}, \\quad \\left ( 4, \\quad 3, \\quad 1\\right ) : 0, \\quad \\left ( 4, \\quad 3, \\quad 2\\right ) : 0, \\quad \\left ( 4, \\quad 3, \\quad 3\\right ) : 0, \\quad \\left ( 4, \\quad 3, \\quad 4\\right ) : - \\frac{r^{2} \\sin{\\left (2 \\theta \\right )}}{2}, \\quad \\left ( 4, \\quad 4, \\quad 1\\right ) : 0, \\quad \\left ( 4, \\quad 4, \\quad 2\\right ) : - r \\sin^{2}{\\left (\\theta \\right )}, \\quad \\left ( 4, \\quad 4, \\quad 3\\right ) : - \\frac{r^{2} \\sin{\\left (2 \\theta \\right )}}{2}, \\quad \\left ( 4, \\quad 4, \\quad 4\\right ) : 0\\right \\}$$"
      ],
      "text/plain": [
       "⎧                                           ⎛                   ⎛             \n",
       "⎪                                           ⎜                   ⎜          ───\n",
       "⎪                                           ⎜                   ⎜          \\la\n",
       "⎨                                        Rₛ⋅⎝\\delta⋅r + \\lambda⋅⎝\\delta + ℯ   \n",
       "⎪(-1, 1, 1): 0, (1, 1, 1): 0, (1, 1, 2): ─────────────────────────────────────\n",
       "⎪                                                               2             \n",
       "⎩                                                      \\lambda⋅r ⋅(\\delta + 1)\n",
       "\n",
       "r   ⎞⎞    -r                                               ⎛                  \n",
       "────⎟⎟  ───────                                            ⎜                  \n",
       "mbda⎟⎟  \\lambda                                            ⎜                  \n",
       "    ⎠⎠⋅ℯ                                                Rₛ⋅⎝\\delta⋅r + \\lambda\n",
       "───────────────, (1, 1, 3): 0, (1, 1, 4): 0, (1, 2, 1): ──────────────────────\n",
       "                                                                              \n",
       "                                                                      \\lambda⋅\n",
       "\n",
       " ⎛             r   ⎞⎞    -r                                                   \n",
       " ⎜          ───────⎟⎟  ───────                                                \n",
       " ⎜          \\lambda⎟⎟  \\lambda                                                \n",
       "⋅⎝\\delta + ℯ       ⎠⎠⋅ℯ                                                       \n",
       "──────────────────────────────, (1, 2, 2): 0, (1, 2, 3): 0, (1, 2, 4): 0, (1, \n",
       " 2                                                                            \n",
       "r ⋅(\\delta + 1)                                                               \n",
       "\n",
       "                                                                              \n",
       "                                                                              \n",
       "                                                                              \n",
       "                                                                              \n",
       "3, 1): 0, (1, 3, 2): 0, (1, 3, 3): 0, (1, 3, 4): 0, (1, 4, 1): 0, (1, 4, 2): 0\n",
       "                                                                              \n",
       "                                                                              \n",
       "\n",
       "                                             ⎛                   ⎛            \n",
       "                                             ⎜                   ⎜          ──\n",
       "                                             ⎜                   ⎜          \\l\n",
       "                                         -Rₛ⋅⎝\\delta⋅r + \\lambda⋅⎝\\delta + ℯ  \n",
       ", (1, 4, 3): 0, (1, 4, 4): 0, (2, 1, 1): ─────────────────────────────────────\n",
       "                                                                 2            \n",
       "                                                        \\lambda⋅r ⋅(\\delta + 1\n",
       "\n",
       " r   ⎞⎞    -r                                                                 \n",
       "─────⎟⎟  ───────                                                              \n",
       "ambda⎟⎟  \\lambda                                                              \n",
       "     ⎠⎠⋅ℯ                                                                     \n",
       "─────────────────, (2, 1, 2): 0, (2, 1, 3): 0, (2, 1, 4): 0, (2, 2, 1): 0, (2,\n",
       "                                                                              \n",
       ")                                                                             \n",
       "\n",
       "           ⎛                   ⎛             r   ⎞⎞    -r                     \n",
       "           ⎜                   ⎜          ───────⎟⎟  ───────                  \n",
       "           ⎜                   ⎜          \\lambda⎟⎟  \\lambda                  \n",
       "        Rₛ⋅⎝\\delta⋅r + \\lambda⋅⎝\\delta + ℯ       ⎠⎠⋅ℯ                         \n",
       " 2, 2): ────────────────────────────────────────────────────, (2, 2, 3): 0, (2\n",
       "                               2                                              \n",
       "                      \\lambda⋅r ⋅(\\delta + 1)                                 \n",
       "\n",
       "                                                                              \n",
       "                                                                              \n",
       "                                                                              \n",
       "                                                                              \n",
       ", 2, 4): 0, (2, 3, 1): 0, (2, 3, 2): 0, (2, 3, 3): r, (2, 3, 4): 0, (2, 4, 1):\n",
       "                                                                              \n",
       "                                                                              \n",
       "\n",
       "                                                                              \n",
       "                                                                              \n",
       "                                                                              \n",
       "                                                2                             \n",
       " 0, (2, 4, 2): 0, (2, 4, 3): 0, (2, 4, 4): r⋅sin (\\theta), (3, 1, 1): 0, (3, 1\n",
       "                                                                              \n",
       "                                                                              \n",
       "\n",
       "                                                                              \n",
       "                                                                              \n",
       "                                                                              \n",
       "                                                                              \n",
       ", 2): 0, (3, 1, 3): 0, (3, 1, 4): 0, (3, 2, 1): 0, (3, 2, 2): 0, (3, 2, 3): -r\n",
       "                                                                              \n",
       "                                                                              \n",
       "\n",
       "                                                                              \n",
       "                                                                              \n",
       "                                                                              \n",
       "                                                                              \n",
       ", (3, 2, 4): 0, (3, 3, 1): 0, (3, 3, 2): -r, (3, 3, 3): 0, (3, 3, 4): 0, (3, 4\n",
       "                                                                              \n",
       "                                                                              \n",
       "\n",
       "                                                                              \n",
       "                                                                              \n",
       "                                                 2                            \n",
       "                                                r ⋅sin(2⋅\\theta)              \n",
       ", 1): 0, (3, 4, 2): 0, (3, 4, 3): 0, (3, 4, 4): ────────────────, (4, 1, 1): 0\n",
       "                                                       2                      \n",
       "                                                                              \n",
       "\n",
       "                                                                              \n",
       "                                                                              \n",
       "                                                                              \n",
       "                                                                              \n",
       ", (4, 1, 2): 0, (4, 1, 3): 0, (4, 1, 4): 0, (4, 2, 1): 0, (4, 2, 2): 0, (4, 2,\n",
       "                                                                              \n",
       "                                                                              \n",
       "\n",
       "                                                                              \n",
       "                                                                              \n",
       "                                                                              \n",
       "                         2                                                    \n",
       " 3): 0, (4, 2, 4): -r⋅sin (\\theta), (4, 3, 1): 0, (4, 3, 2): 0, (4, 3, 3): 0, \n",
       "                                                                              \n",
       "                                                                              \n",
       "\n",
       "                                                                              \n",
       "                                                                              \n",
       "             2                                                                \n",
       "           -r ⋅sin(2⋅\\theta)                                  2               \n",
       "(4, 3, 4): ──────────────────, (4, 4, 1): 0, (4, 4, 2): -r⋅sin (\\theta), (4, 4\n",
       "                   2                                                          \n",
       "                                                                              \n",
       "\n",
       "                                      ⎫\n",
       "                                      ⎪\n",
       "        2                             ⎪\n",
       "      -r ⋅sin(2⋅\\theta)               ⎬\n",
       ", 3): ──────────────────, (4, 4, 4): 0⎪\n",
       "              2                       ⎪\n",
       "                                      ⎭"
      ]
     },
     "execution_count": 52,
     "metadata": {},
     "output_type": "execute_result"
    }
   ],
   "source": [
    "Ga.components"
   ]
  },
  {
   "cell_type": "code",
   "execution_count": 53,
   "metadata": {},
   "outputs": [],
   "source": [
    "tau = symbols('\\\\tau')\n",
    "w = Geodesic('w', g, tau)"
   ]
  },
  {
   "cell_type": "code",
   "execution_count": 61,
   "metadata": {},
   "outputs": [
    {
     "data": {
      "text/latex": [
       "$$r^{2}{\\left (\\tau \\right )} \\sin{\\left (\\theta{\\left (\\tau \\right )} \\right )} \\cos{\\left (\\theta{\\left (\\tau \\right )} \\right )} \\left(\\frac{d}{d \\tau} \\phi{\\left (\\tau \\right )}\\right)^{2} - r^{2}{\\left (\\tau \\right )} \\frac{d^{2}}{d \\tau^{2}} \\theta{\\left (\\tau \\right )} - 2 r{\\left (\\tau \\right )} \\frac{d}{d \\tau} \\theta{\\left (\\tau \\right )} \\frac{d}{d \\tau} r{\\left (\\tau \\right )}$$"
      ],
      "text/plain": [
       "                                                                2             \n",
       " 2                                           ⎛  d              ⎞     2        \n",
       "r (\\tau)⋅sin(\\theta(\\tau))⋅cos(\\theta(\\tau))⋅⎜─────(\\phi(\\tau))⎟  - r (\\tau)⋅─\n",
       "                                             ⎝d\\tau            ⎠              \n",
       "                                                                             d\n",
       "\n",
       "  2                                                               \n",
       " d                                d                   d           \n",
       "─────(\\theta(\\tau)) - 2⋅r(\\tau)⋅─────(\\theta(\\tau))⋅─────(r(\\tau))\n",
       "    2                           d\\tau               d\\tau         \n",
       "\\tau                                                              "
      ]
     },
     "execution_count": 61,
     "metadata": {},
     "output_type": "execute_result"
    }
   ],
   "source": [
    "w(3)"
   ]
  },
  {
   "cell_type": "code",
   "execution_count": null,
   "metadata": {},
   "outputs": [],
   "source": []
  }
 ],
 "metadata": {
  "kernelspec": {
   "display_name": "Python 3",
   "language": "python",
   "name": "python3"
  },
  "language_info": {
   "codemirror_mode": {
    "name": "ipython",
    "version": 3
   },
   "file_extension": ".py",
   "mimetype": "text/x-python",
   "name": "python",
   "nbconvert_exporter": "python",
   "pygments_lexer": "ipython3",
   "version": "3.6.2"
  }
 },
 "nbformat": 4,
 "nbformat_minor": 2
}
